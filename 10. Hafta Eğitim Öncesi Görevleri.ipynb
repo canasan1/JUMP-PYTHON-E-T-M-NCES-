{
 "cells": [
  {
   "attachments": {},
   "cell_type": "markdown",
   "metadata": {},
   "source": [
    "# Problem 1"
   ]
  },
  {
   "cell_type": "code",
   "execution_count": null,
   "metadata": {},
   "outputs": [],
   "source": [
    "# 1 - numpy kütüphanesini import edin\n",
    "import numpy as np\n",
    "\n",
    "# 2 - 0 ile 10 arasında 5 sayıdan oluşan matris üretin\n",
    "import numpy as np\n",
    "\n",
    "matris = np.random.randint(0, 11, size=(5))\n",
    "print(matris)\n",
    "\n",
    "# 3 - matris'in boyutunu öğrenin\n",
    "import numpy as np\n",
    "\n",
    "matris = np.array([[4, 2, 9, 7, 3]])\n",
    "boyut = matris.shape\n",
    "print(boyut)\n",
    "\n",
    "# 4 - matris'i yeniden boyutlandırın\n",
    "import numpy as np\n",
    "\n",
    "matris = np.array([[4, 2, 9, 7, 3]])\n",
    "yeniden_boyutlandirilmis_matris = matris.reshape(5, 1)\n",
    "print(yeniden_boyutlandirilmis_matris)\n",
    "\n",
    "# 5 - matris'in boyut sayısını öğrenin\n",
    "import numpy as np\n",
    "\n",
    "matris = np.array([[4, 2, 9, 7, 3]])\n",
    "boyut_sayisi = matris.ndim\n",
    "print(boyut_sayisi)\n"
   ]
  },
  {
   "attachments": {},
   "cell_type": "markdown",
   "metadata": {},
   "source": [
    "# Problem 2"
   ]
  },
  {
   "cell_type": "code",
   "execution_count": null,
   "metadata": {},
   "outputs": [],
   "source": [
    "# 1 - 0 ile 10 arasında bulunan tek sayılardan oluşan matris üretin\n",
    "import numpy as np\n",
    "\n",
    "matris = np.arange(1, 11, 2).reshape(5, 1)\n",
    "print(matris)\n",
    "\n",
    "# 2 - Oluşturduğunuz matrisi parçalayın\n",
    "import numpy as np\n",
    "\n",
    "matris = np.array([[1, 3, 5, 7, 9]])\n",
    "parcalanan_matris = matris[:, 1:4]\n",
    "print(parcalanan_matris)\n",
    "\n",
    "# 3 - Parçalanmış matrisleri birleştirin\n",
    "import numpy as np\n",
    "\n",
    "matris1 = np.array([[3, 5, 7]])\n",
    "matris2 = np.array([[1, 9, 2]])\n",
    "\n",
    "birlesik_matris = np.concatenate((matris1, matris2), axis=1)\n",
    "print(birlesik_matris)\n"
   ]
  },
  {
   "attachments": {},
   "cell_type": "markdown",
   "metadata": {},
   "source": [
    "# Problem 3"
   ]
  },
  {
   "cell_type": "code",
   "execution_count": null,
   "metadata": {},
   "outputs": [],
   "source": [
    "# 1 - 5 ile 100 arasında ikişer ikişer atlayarak rastgele 10 sayıdan oluşan matris üretin\n",
    "import numpy as np\n",
    "\n",
    "matris = np.random.choice(np.arange(5, 101, 2), size=(10, 1))\n",
    "print(matris)\n",
    "\n",
    "import numpy as np\n",
    "\n",
    "matris = np.array([[35, 21, 75, 45, 65],\n",
    "                   [91, 99, 57, 73, 81]])\n"
   ]
  }
 ],
 "metadata": {
  "kernelspec": {
   "display_name": "Python 3",
   "language": "python",
   "name": "python3"
  },
  "language_info": {
   "name": "python",
   "version": "3.10.5 (tags/v3.10.5:f377153, Jun  6 2022, 16:14:13) [MSC v.1929 64 bit (AMD64)]"
  },
  "orig_nbformat": 4,
  "vscode": {
   "interpreter": {
    "hash": "5026d2d6e7aaaaba093def813beadff083d8733e4a511af01735cbabd156995d"
   }
  }
 },
 "nbformat": 4,
 "nbformat_minor": 2
}
